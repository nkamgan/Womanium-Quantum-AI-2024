{
  "nbformat": 4,
  "nbformat_minor": 0,
  "metadata": {
    "colab": {
      "provenance": []
    },
    "kernelspec": {
      "name": "python3",
      "display_name": "Python 3"
    },
    "language_info": {
      "name": "python"
    }
  },
  "cells": [
    {
      "cell_type": "code",
      "source": [
        "import pennylane as qml\n",
        "from pennylane import numpy as np\n",
        "from pennylane.templates import RandomLayers\n",
        "import tensorflow as tf\n",
        "from tensorflow import keras\n",
        "import matplotlib.pyplot as plt\n",
        "PREPROCESS = True\n",
        "np.random.seed(0)\n",
        "tf.random.set_seed(0)"
      ],
      "metadata": {
        "id": "JBHggPFrixIX"
      },
      "execution_count": null,
      "outputs": []
    },
    {
      "cell_type": "markdown",
      "source": [
        "Quantum circuit as a convolution kernel\n",
        "======================================="
      ],
      "metadata": {
        "id": "34HsEP54jAFw"
      }
    },
    {
      "cell_type": "code",
      "source": [
        "dev = qml.device(\"default.qubit\", wires=4)\n",
        "# Random circuit parameters\n",
        "rand_params = np.random.uniform(high=2 * np.pi, size=(n_layers, 4))\n",
        "\n",
        "@qml.qnode(dev)\n",
        "def circuit(phi):\n",
        "    # Encoding of 4 classical input values\n",
        "    for j in range(4):\n",
        "        qml.RY(np.pi * phi[j], wires=j)\n",
        "\n",
        "    # Random quantum circuit\n",
        "    RandomLayers(rand_params, wires=list(range(4)))\n",
        "\n",
        "    # Measurement producing 4 classical output values\n",
        "    return [qml.expval(qml.PauliZ(j)) for j in range(4)]"
      ],
      "metadata": {
        "id": "dTWaPFbvi_Am"
      },
      "execution_count": null,
      "outputs": []
    },
    {
      "cell_type": "code",
      "source": [
        "def quanv(image):\n",
        "    \"\"\"Convolves the input image with many applications of the same quantum circuit.\"\"\"\n",
        "    out = np.zeros((14, 14, 4))\n",
        "\n",
        "    # Loop over the coordinates of the top-left pixel of 2X2 squares\n",
        "    for j in range(0, 28, 2):\n",
        "        for k in range(0, 28, 2):\n",
        "            # Process a squared 2x2 region of the image with a quantum circuit\n",
        "            q_results = circuit(\n",
        "                [\n",
        "                    image[j, k, 0],\n",
        "                    image[j, k + 1, 0],\n",
        "                    image[j + 1, k, 0],\n",
        "                    image[j + 1, k + 1, 0]\n",
        "                ]\n",
        "            )\n",
        "            # Assign expectation values to different channels of the output pixel (j/2, k/2)\n",
        "            for c in range(4):\n",
        "                out[j // 2, k // 2, c] = q_results[c]\n",
        "    return out"
      ],
      "metadata": {
        "id": "Ib5Hexp8jHlZ"
      },
      "execution_count": null,
      "outputs": []
    },
    {
      "cell_type": "markdown",
      "source": [
        "1. Data Acquisition\n",
        "===================\n",
        "\n",
        "We load the data from Kaggle  "
      ],
      "metadata": {
        "id": "7RyK5Fc5LHrP"
      }
    },
    {
      "cell_type": "markdown",
      "source": [
        " Data Preprocessing\n",
        " =================="
      ],
      "metadata": {
        "id": "mM9QzV64LjkD"
      }
    },
    {
      "cell_type": "code",
      "source": [],
      "metadata": {
        "id": "4zTobHBqL6Rl"
      },
      "execution_count": null,
      "outputs": []
    },
    {
      "cell_type": "markdown",
      "source": [
        "Model Selection\n",
        "===============\n",
        "\n",
        "."
      ],
      "metadata": {
        "id": "591Ok3chLuoz"
      }
    },
    {
      "cell_type": "code",
      "source": [],
      "metadata": {
        "id": "AQrnvX-Gxkn-"
      },
      "execution_count": null,
      "outputs": []
    },
    {
      "cell_type": "code",
      "source": [
        "%matplotlib inline\n",
        "from src.data import visualize_one_batch, get_data_loaders\n",
        "\n",
        "data_loaders = get_data_loaders(batch_size = 5, valid_size = 0.01, num_workers = -1,)\n",
        "\n",
        "visualize_one_batch(data_loaders)"
      ],
      "metadata": {
        "id": "g9D9-3Khf_X_"
      },
      "execution_count": null,
      "outputs": []
    },
    {
      "cell_type": "code",
      "source": [
        "def get_loss():\n",
        "    \"\"\"\n",
        "    Get an instance of the CrossEntropyLoss (useful for classification),\n",
        "    optionally moving it to the GPU if use_cuda is set to True\n",
        "    \"\"\"\n",
        "\n",
        "    # YOUR CODE HERE: select a loss appropriate for classification\n",
        "    loss  = nn.CrossEntropyLoss()  # YOUR CODE HERE\n",
        "\n",
        "    return loss\n"
      ],
      "metadata": {
        "id": "OgTejrM1iqF3"
      },
      "execution_count": null,
      "outputs": []
    },
    {
      "cell_type": "code",
      "source": [
        "batch_size = 64        # size of the minibatch for stochastic gradient descent (or Adam)\n",
        "valid_size = 0.2       # fraction of the training data to reserve for validation\n",
        "num_epochs = 50        # number of epochs for training\n",
        "num_classes = 50       # number of classes. Do not change this\n",
        "dropout = 0.5          # dropout for our model\n",
        "learning_rate = 0.0001  # Learning rate for SGD (or Adam)\n",
        "opt = 'adam'            # optimizer. 'sgd' or 'adam'\n",
        "weight_decay = 0.01"
      ],
      "metadata": {
        "id": "0llDzw77hilR"
      },
      "execution_count": null,
      "outputs": []
    },
    {
      "cell_type": "code",
      "source": [
        "import torch\n",
        "from src.data import get_data_loaders\n",
        "from src.train import optimize\n",
        "from src.optimization import get_optimizer, get_loss\n",
        "from src.model import MyModel\n",
        "\n",
        "\n",
        "data_loaders = get_data_loaders(batch_size,valid_size)\n",
        "\n",
        "\n",
        "model = MyModel(num_classes=num_classes, dropout=dropout)\n",
        "\n",
        "\n",
        "\n",
        "\n",
        "\n",
        "optimizer = get_optimizer(model=model,optimizer=opt,learning_rate=learning_rate,\n",
        "                          weight_decay=weight_decay)\n",
        "\n",
        "# Get the loss using get_loss\n",
        "loss = get_loss()\n",
        "\n",
        "optimize(\n",
        "    data_loaders,\n",
        "    model,\n",
        "    optimizer,\n",
        "    loss,\n",
        "    n_epochs=num_epochs,\n",
        "    save_path=\"checkpoints/best_val_loss.pt\",\n",
        "    interactive_tracking=True\n",
        ")"
      ],
      "metadata": {
        "id": "6hg_OUlDhrnR"
      },
      "execution_count": null,
      "outputs": []
    },
    {
      "cell_type": "markdown",
      "source": [
        "Model Implementation\n",
        "===================="
      ],
      "metadata": {
        "id": "yIhm_Eu_L733"
      }
    },
    {
      "cell_type": "markdown",
      "source": [],
      "metadata": {
        "id": "U4rM8VpMNOM2"
      }
    },
    {
      "cell_type": "code",
      "source": [],
      "metadata": {
        "id": "9hz3jDP2f7o-"
      },
      "execution_count": null,
      "outputs": []
    },
    {
      "cell_type": "markdown",
      "source": [
        "Visualization\n",
        "=============\n"
      ],
      "metadata": {
        "id": "vBVJs0DTMQEB"
      }
    },
    {
      "cell_type": "markdown",
      "source": [],
      "metadata": {
        "id": "zmVjctWjL4kC"
      }
    }
  ]
}